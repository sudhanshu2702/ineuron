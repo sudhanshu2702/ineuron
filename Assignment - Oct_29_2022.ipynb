{
 "cells": [
  {
   "cell_type": "code",
   "execution_count": null,
   "metadata": {
    "ExecuteTime": {
     "end_time": "2022-10-29T09:46:28.824187Z",
     "start_time": "2022-10-29T09:46:27.790764Z"
    }
   },
   "outputs": [],
   "source": [
    "import pandas as pd\n",
    "import numpy as np"
   ]
  },
  {
   "cell_type": "code",
   "execution_count": null,
   "metadata": {},
   "outputs": [],
   "source": [
    "1. write a function which will try to find out len of a string without using an inbuilt len function \n",
    "2. write a function which  will be able to print an index of list element without using an index function\n",
    "3. write a function which will be able to print an ip address of your system\n",
    "4. write a function which will shutdown your system\n",
    "5. write a function which will take input as a list with any kind of numeric value and give an out as a multiplication of \n",
    "all the numeric data l = [3.5, 6.56, 4,5,\"sudh\" , \"ineuron\" , 'fsda bootcamp 2.0']\n",
    "6. write a function which will be able to read all the mails \n",
    "7 . write a function which will be able to send a mail to anyone \n",
    "8. write a function which will be able to read a doc/word file from your system "
   ]
  },
  {
   "cell_type": "code",
   "execution_count": null,
   "metadata": {
    "ExecuteTime": {
     "end_time": "2022-10-29T11:06:29.103789Z",
     "start_time": "2022-10-29T11:06:29.093787Z"
    }
   },
   "outputs": [],
   "source": [
    "def Q1(l):\n",
    "    \"\"\"\n",
    "    This function will return you the len of a given list,string etc.\n",
    "    Input parameter : a list or a string or a tuple\n",
    "    \"\"\"\n",
    "    a = 0\n",
    "    for i,j in enumerate(l):\n",
    "        a = a+1\n",
    "    return a"
   ]
  },
  {
   "cell_type": "code",
   "execution_count": null,
   "metadata": {
    "ExecuteTime": {
     "end_time": "2022-10-29T11:09:26.432527Z",
     "start_time": "2022-10-29T11:09:26.423188Z"
    }
   },
   "outputs": [],
   "source": [
    "def Q2(l):\n",
    "    \"\"\"\n",
    "    This function will print you the index and value at that index of a given list,string etc.\n",
    "    Input parameter : a list or a string or a tuple\n",
    "    \"\"\"\n",
    "    for i,j in enumerate(l):\n",
    "        print(i,j)"
   ]
  },
  {
   "cell_type": "code",
   "execution_count": null,
   "metadata": {
    "ExecuteTime": {
     "end_time": "2022-10-29T11:19:50.541965Z",
     "start_time": "2022-10-29T11:19:50.537712Z"
    }
   },
   "outputs": [],
   "source": [
    "import socket\n",
    "def Q3_ipaddress():\n",
    "    \"\"\"\n",
    "    This function will help you to find the IP address of your current system.\n",
    "    \"\"\"\n",
    "    host_name = socket.gethostname()\n",
    "    ipaddress = socket.gethostbyname(host_name)\n",
    "    return ipaddress"
   ]
  },
  {
   "cell_type": "code",
   "execution_count": null,
   "metadata": {
    "ExecuteTime": {
     "end_time": "2022-10-29T11:47:42.070832Z",
     "start_time": "2022-10-29T11:47:39.639581Z"
    }
   },
   "outputs": [],
   "source": [
    "import os\n",
    "shut_system = input(\"Would you like to shutdown your sytem? Enter 1 for yes and 0 for No : \")\n",
    "def Q4_shutdownsystem(shut_system):\n",
    "    \"\"\"\n",
    "    This function will shutdown your operating system.\n",
    "    Input parameter : 0 or 1\n",
    "    \"\"\"\n",
    "    if shut_system=='Yes':\n",
    "        os.sytem(\"shutdown /s /t 1\")\n",
    "    else:\n",
    "        pass"
   ]
  },
  {
   "cell_type": "code",
   "execution_count": null,
   "metadata": {
    "ExecuteTime": {
     "end_time": "2022-10-29T12:08:50.024333Z",
     "start_time": "2022-10-29T12:08:50.004808Z"
    }
   },
   "outputs": [],
   "source": [
    "l = [3.5, 6.56, 4,5,\"sudh\" , \"ineuron\" , 'fsda bootcamp 2.0']\n",
    "def Q5_mul_num(l):\n",
    "    \"\"\"\n",
    "    This function will return the multiplication of integer and float numbers from a list.\n",
    "    Input parameter : a list or a string or a tuple\n",
    "    \"\"\"\n",
    "    a = 1\n",
    "    for i in l:\n",
    "        if type(i)==int or type(i)==float:\n",
    "            a = a*i\n",
    "        else:\n",
    "            pass\n",
    "    return a\n",
    "\n",
    "mul_num = Q5_mul_num(l)"
   ]
  },
  {
   "cell_type": "code",
   "execution_count": null,
   "metadata": {
    "ExecuteTime": {
     "end_time": "2022-10-29T12:47:05.200310Z",
     "start_time": "2022-10-29T12:47:05.194792Z"
    }
   },
   "outputs": [],
   "source": [
    "import smtplib,ssl\n",
    "message = \"\"\"\\\n",
    "            Subject : Test Mail\n",
    "\n",
    "            This is an auto generated email with python.\n",
    "\n",
    "            Regards\n",
    "            Sudhannshu_python\n",
    "\n",
    "            \"\"\"\n",
    "def Q7_sendmail(message):\n",
    "    \"\"\"\n",
    "    This function will send email to a user through GMAIL server. \n",
    "    Input parameter : string\n",
    "    \"\"\"\n",
    "    port = 587\n",
    "    smtp_server = \"smtp.gmail.com\"\n",
    "    sender_email = input(\"Enter the sender email_id: \")\n",
    "    receiver_email = input(\"Enter receiver email_id: \")\n",
    "    password = input(\"Enter your password: \")\n",
    "    cntxt = ssl.create_default_context()\n",
    "    with smtplib.SMTP_SSL(smtp_server,port,context=cntxt) as server:\n",
    "        server.login(sender_email,password)\n",
    "        server.sendmail(sender_email,receiver_email,message)"
   ]
  },
  {
   "cell_type": "code",
   "execution_count": null,
   "metadata": {},
   "outputs": [],
   "source": []
  },
  {
   "cell_type": "code",
   "execution_count": null,
   "metadata": {},
   "outputs": [],
   "source": []
  }
 ],
 "metadata": {
  "kernelspec": {
   "display_name": "Python 3",
   "language": "python",
   "name": "python3"
  },
  "language_info": {
   "codemirror_mode": {
    "name": "ipython",
    "version": 3
   },
   "file_extension": ".py",
   "mimetype": "text/x-python",
   "name": "python",
   "nbconvert_exporter": "python",
   "pygments_lexer": "ipython3",
   "version": "3.8.5"
  },
  "toc": {
   "base_numbering": 1,
   "nav_menu": {},
   "number_sections": true,
   "sideBar": true,
   "skip_h1_title": false,
   "title_cell": "Table of Contents",
   "title_sidebar": "Contents",
   "toc_cell": false,
   "toc_position": {},
   "toc_section_display": true,
   "toc_window_display": false
  }
 },
 "nbformat": 4,
 "nbformat_minor": 4
}
